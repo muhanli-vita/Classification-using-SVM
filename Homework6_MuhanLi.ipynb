{
 "cells": [
  {
   "cell_type": "markdown",
   "metadata": {},
   "source": [
    "**Name: Muhan Li**"
   ]
  },
  {
   "cell_type": "markdown",
   "metadata": {},
   "source": [
    "**USC ID: 5104027574**"
   ]
  },
  {
   "cell_type": "markdown",
   "metadata": {},
   "source": [
    "# Multi-class and Multi-Label Classification Using Support Vector Machines"
   ]
  },
  {
   "cell_type": "code",
   "execution_count": 152,
   "metadata": {},
   "outputs": [],
   "source": [
    "import pandas as pd\n",
    "import numpy as np\n",
    "from numpy import arange\n",
    "from sklearn import svm\n",
    "from sklearn.svm import SVC, LinearSVC\n",
    "from sklearn.model_selection import GridSearchCV\n",
    "from sklearn.preprocessing import StandardScaler\n",
    "from sklearn.metrics import hamming_loss\n",
    "from imblearn.over_sampling import SMOTE"
   ]
  },
  {
   "cell_type": "markdown",
   "metadata": {},
   "source": [
    "## (a) Download the dataset"
   ]
  },
  {
   "cell_type": "code",
   "execution_count": 2,
   "metadata": {},
   "outputs": [],
   "source": [
    "df0 = pd.read_csv('Frogs_MFCCs.csv')\n",
    "df = df0.sample(frac=0.7)"
   ]
  },
  {
   "cell_type": "markdown",
   "metadata": {},
   "source": [
    "## (b) Solve the multi-class and multi-label problem"
   ]
  },
  {
   "cell_type": "markdown",
   "metadata": {},
   "source": [
    "### i. Research exact match and hamming score/loss methods"
   ]
  },
  {
   "cell_type": "markdown",
   "metadata": {},
   "source": [
    "### ii. SVM"
   ]
  },
  {
   "cell_type": "code",
   "execution_count": 3,
   "metadata": {},
   "outputs": [],
   "source": [
    "X_train = StandardScaler().fit_transform(df.iloc[:,range(22)])\n",
    "y1_train = df.iloc[:,22]\n",
    "y2_train = df.iloc[:,23]\n",
    "y3_train = df.iloc[:,24]"
   ]
  },
  {
   "cell_type": "markdown",
   "metadata": {},
   "source": [
    "#### 1st label: Families"
   ]
  },
  {
   "cell_type": "code",
   "execution_count": 4,
   "metadata": {
    "scrolled": true
   },
   "outputs": [
    {
     "name": "stdout",
     "output_type": "stream",
     "text": [
      "log(C),log(gamma)∈(-2,2)\n",
      "Parameters for which the training accuracy is below 0.7:\n",
      "C\tgamma\taccuracy\n",
      "0.01\t1\t0.6424\n",
      "0.01\t10\t0.6166\n",
      "0.01\t100\t0.6166\n",
      "0.1\t10\t0.6211\n",
      "0.1\t100\t0.6166\n"
     ]
    }
   ],
   "source": [
    "print('log(C),log(gamma)∈(-2,2)')\n",
    "print('Parameters for which the training accuracy is below 0.7:')\n",
    "print('C\\tgamma\\taccuracy')\n",
    "for i in [0.01,0.1,1,10,100]:\n",
    "    for j in [0.01,0.1,1,10,100]:\n",
    "        svc = svm.SVC(C=i, gamma=j, kernel='rbf',\n",
    "                      decision_function_shape='ovr')\n",
    "        svc.fit(X_train, y1_train)\n",
    "        score = svc.score(X_train, y1_train)\n",
    "        if score<0.7:\n",
    "            print('%s\\t%s\\t%0.4f'\n",
    "                  % (i, j, score))"
   ]
  },
  {
   "cell_type": "markdown",
   "metadata": {},
   "source": [
    "It seems that bigger C and smaller gamma may be better, so I add C=1000 and gamma=0.001 into cross validation, choosing C={1,10,100,1000} and gamma={0.001,0.01,0.1,1}:"
   ]
  },
  {
   "cell_type": "code",
   "execution_count": 5,
   "metadata": {},
   "outputs": [
    {
     "name": "stdout",
     "output_type": "stream",
     "text": [
      "The best parameters are {'C': 10, 'gamma': 0.1} with a score of 0.9897\n"
     ]
    }
   ],
   "source": [
    "svc = svm.SVC(kernel='rbf', decision_function_shape='ovr')\n",
    "grid = GridSearchCV(svc, param_grid={\"C\":[1,10,100,1000],\n",
    "                                     \"gamma\":[0.001,0.01,0.1,1]},\n",
    "                    cv=10)\n",
    "grid.fit(X_train, y1_train)\n",
    "print(\"The best parameters are %s with a score of %0.4f\"\n",
    "      % (grid.best_params_, grid.best_score_))"
   ]
  },
  {
   "cell_type": "markdown",
   "metadata": {},
   "source": [
    "#### 2nd label: Genus"
   ]
  },
  {
   "cell_type": "code",
   "execution_count": 6,
   "metadata": {
    "scrolled": true
   },
   "outputs": [
    {
     "name": "stdout",
     "output_type": "stream",
     "text": [
      "log(C),log(gamma)∈(-2,2)\n",
      "Parameters for which the training accuracy is below 0.7:\n",
      "C\tgamma\taccuracy\n",
      "0.01\t1\t0.6031\n",
      "0.01\t10\t0.5780\n",
      "0.01\t100\t0.5780\n",
      "0.1\t10\t0.5826\n",
      "0.1\t100\t0.5780\n"
     ]
    }
   ],
   "source": [
    "print('log(C),log(gamma)∈(-2,2)')\n",
    "print('Parameters for which the training accuracy is below 0.7:')\n",
    "print('C\\tgamma\\taccuracy')\n",
    "for i in [0.01,0.1,1,10,100]:\n",
    "    for j in [0.01,0.1,1,10,100]:\n",
    "        svc = svm.SVC(C=i, gamma=j, kernel='rbf',\n",
    "                      decision_function_shape='ovr')\n",
    "        svc.fit(X_train, y2_train)\n",
    "        score = svc.score(X_train, y2_train)\n",
    "        if score<0.7:\n",
    "            print('%s\\t%s\\t%0.4f'\n",
    "                  % (i, j, score))"
   ]
  },
  {
   "cell_type": "markdown",
   "metadata": {},
   "source": [
    "Similarly, choose C={1,10,100,1000} and gamma={0.001,0.01,0.1,1}:"
   ]
  },
  {
   "cell_type": "code",
   "execution_count": 8,
   "metadata": {},
   "outputs": [
    {
     "name": "stdout",
     "output_type": "stream",
     "text": [
      "The best parameters are {'C': 10, 'gamma': 0.01} with a score of 0.9869\n"
     ]
    }
   ],
   "source": [
    "svc = svm.SVC(kernel='rbf', decision_function_shape='ovr')\n",
    "grid = GridSearchCV(svc, param_grid={\"C\":[1,10,100,1000],\n",
    "                                     \"gamma\":[0.001,0.01,0.1,1]},\n",
    "                    cv=10)\n",
    "grid.fit(X_train, y2_train)\n",
    "print(\"The best parameters are %s with a score of %0.4f\"\n",
    "      % (grid.best_params_, grid.best_score_))"
   ]
  },
  {
   "cell_type": "markdown",
   "metadata": {},
   "source": [
    "#### 3rd lable: Species"
   ]
  },
  {
   "cell_type": "code",
   "execution_count": 9,
   "metadata": {
    "scrolled": true
   },
   "outputs": [
    {
     "name": "stdout",
     "output_type": "stream",
     "text": [
      "log(C),log(gamma)∈(-2,2)\n",
      "Parameters for which the training accuracy is below 0.7:\n",
      "C\tgamma\taccuracy\n",
      "0.01\t1\t0.5089\n",
      "0.01\t10\t0.4843\n",
      "0.01\t100\t0.4843\n",
      "0.1\t1\t0.6402\n",
      "0.1\t10\t0.4889\n",
      "0.1\t100\t0.4843\n"
     ]
    }
   ],
   "source": [
    "print('log(C),log(gamma)∈(-2,2)')\n",
    "print('Parameters for which the training accuracy is below 0.7:')\n",
    "print('C\\tgamma\\taccuracy')\n",
    "for i in [0.01,0.1,1,10,100]:\n",
    "    for j in [0.01,0.1,1,10,100]:\n",
    "        svc = svm.SVC(C=i, gamma=j, kernel='rbf',\n",
    "                      decision_function_shape='ovr')\n",
    "        svc.fit(X_train, y3_train)\n",
    "        score = svc.score(X_train, y3_train)\n",
    "        if score<0.7:\n",
    "            print('%s\\t%s\\t%0.4f'\n",
    "                  % (i, j, score))"
   ]
  },
  {
   "cell_type": "markdown",
   "metadata": {},
   "source": [
    "Choose C={1,10,100,1000} and gamma={0.001,0.01,0.1,1} for cross validation:"
   ]
  },
  {
   "cell_type": "code",
   "execution_count": 10,
   "metadata": {
    "scrolled": true
   },
   "outputs": [
    {
     "name": "stdout",
     "output_type": "stream",
     "text": [
      "The best parameters are {'C': 1000, 'gamma': 0.01} with a score of 0.9887\n"
     ]
    }
   ],
   "source": [
    "svc = svm.SVC(kernel='rbf', decision_function_shape='ovr')\n",
    "grid = GridSearchCV(svc, param_grid={\"C\":[1,10,100,1000],\n",
    "                                     \"gamma\":[0.001,0.01,0.1,1]},\n",
    "                    cv=10)\n",
    "grid.fit(X_train, y3_train)\n",
    "print(\"The best parameters are %s with a score of %0.4f\"\n",
    "      % (grid.best_params_, grid.best_score_))"
   ]
  },
  {
   "cell_type": "markdown",
   "metadata": {},
   "source": [
    "Try bigger C:"
   ]
  },
  {
   "cell_type": "code",
   "execution_count": 11,
   "metadata": {},
   "outputs": [
    {
     "name": "stdout",
     "output_type": "stream",
     "text": [
      "The best parameters are {'C': 1000, 'gamma': 0.01} with a score of 0.9887\n"
     ]
    }
   ],
   "source": [
    "svc = svm.SVC(kernel='rbf', decision_function_shape='ovr')\n",
    "grid = GridSearchCV(svc, param_grid={\"C\":[10**3,10**4,10**5],\n",
    "                                     \"gamma\":[0.001,0.01,0.1,1]},\n",
    "                    cv=10)\n",
    "grid.fit(X_train, y3_train)\n",
    "print(\"The best parameters are %s with a score of %0.4f\"\n",
    "      % (grid.best_params_, grid.best_score_))"
   ]
  },
  {
   "cell_type": "markdown",
   "metadata": {},
   "source": [
    "#### Evaluate the classifier using the test set"
   ]
  },
  {
   "cell_type": "code",
   "execution_count": 117,
   "metadata": {
    "scrolled": true
   },
   "outputs": [],
   "source": [
    "from numpy import setdiff1d\n",
    "r=setdiff1d(df0.index, df.index)\n",
    "test = pd.DataFrame(np.array(df0)[r])\n",
    "X_test = StandardScaler().fit_transform(test.iloc[:,range(22)])\n",
    "y1_test = test.iloc[:,22]\n",
    "y2_test = test.iloc[:,23]\n",
    "y3_test = test.iloc[:,24]"
   ]
  },
  {
   "cell_type": "code",
   "execution_count": 119,
   "metadata": {},
   "outputs": [],
   "source": [
    "svc1 = svm.SVC(C=10, gamma=0.1, kernel='rbf', decision_function_shape='ovr')\n",
    "svc1.fit(X_train, y1_train)\n",
    "y1_pred = svc1.predict(X_test)"
   ]
  },
  {
   "cell_type": "code",
   "execution_count": 120,
   "metadata": {},
   "outputs": [],
   "source": [
    "svc2 = svm.SVC(C=10, gamma=0.01, kernel='rbf', decision_function_shape='ovr')\n",
    "svc2.fit(X_train, y2_train)\n",
    "y2_pred = svc2.predict(X_test)"
   ]
  },
  {
   "cell_type": "code",
   "execution_count": 121,
   "metadata": {},
   "outputs": [],
   "source": [
    "svc3 = svm.SVC(C=1000, gamma=0.01, kernel='rbf', decision_function_shape='ovr')\n",
    "svc3.fit(X_train, y3_train)\n",
    "y3_pred = svc3.predict(X_test)"
   ]
  },
  {
   "cell_type": "code",
   "execution_count": 122,
   "metadata": {},
   "outputs": [],
   "source": [
    "y_pred = np.vstack((y1_pred,y2_pred,y3_pred)).T\n",
    "y_test = np.vstack((y1_test,y2_test,y3_test)).T"
   ]
  },
  {
   "cell_type": "markdown",
   "metadata": {},
   "source": [
    "##### Exact match"
   ]
  },
  {
   "cell_type": "code",
   "execution_count": 139,
   "metadata": {},
   "outputs": [
    {
     "data": {
      "text/plain": [
       "0.9823992589161649"
      ]
     },
     "execution_count": 139,
     "metadata": {},
     "output_type": "execute_result"
    }
   ],
   "source": [
    "correct = 0\n",
    "for i in range(2159):\n",
    "    n=0\n",
    "    for j in range(3):\n",
    "        if y_test[i][j] == y_pred[i][j]:\n",
    "            n=n+1\n",
    "    if n==3:\n",
    "        correct = correct + 1\n",
    "score = correct/2159\n",
    "score"
   ]
  },
  {
   "cell_type": "markdown",
   "metadata": {},
   "source": [
    "##### Hamming loss"
   ]
  },
  {
   "cell_type": "code",
   "execution_count": 127,
   "metadata": {},
   "outputs": [
    {
     "data": {
      "text/plain": [
       "0.9905820595954917"
      ]
     },
     "execution_count": 127,
     "metadata": {},
     "output_type": "execute_result"
    }
   ],
   "source": [
    "loss_list = []\n",
    "for i in range(2159):\n",
    "    loss_list.append(hamming_loss(y_test[i],y_pred[i]))\n",
    "loss = np.mean(loss_list)\n",
    "1-loss"
   ]
  },
  {
   "cell_type": "markdown",
   "metadata": {},
   "source": [
    "### iii. $l_1$-penalized SVMs"
   ]
  },
  {
   "cell_type": "markdown",
   "metadata": {},
   "source": [
    "#### 1st label: Families"
   ]
  },
  {
   "cell_type": "code",
   "execution_count": 78,
   "metadata": {},
   "outputs": [
    {
     "name": "stdout",
     "output_type": "stream",
     "text": [
      "The best parameters are {'C': 10.0} with a score of 0.9335\n"
     ]
    }
   ],
   "source": [
    "svc = svm.LinearSVC(penalty='l1', dual=False)\n",
    "grid = GridSearchCV(svc, param_grid={\"C\":10**np.arange(-3,7,dtype=float)}, cv=10)\n",
    "grid.fit(X_train, y1_train)\n",
    "print(\"The best parameters are %s with a score of %0.4f\"\n",
    "      % (grid.best_params_, grid.best_score_))"
   ]
  },
  {
   "cell_type": "markdown",
   "metadata": {},
   "source": [
    "#### 2nd label: Genus"
   ]
  },
  {
   "cell_type": "code",
   "execution_count": 77,
   "metadata": {},
   "outputs": [
    {
     "name": "stdout",
     "output_type": "stream",
     "text": [
      "The best parameters are {'C': 10.0} with a score of 0.9506\n"
     ]
    }
   ],
   "source": [
    "svc = svm.LinearSVC(penalty='l1', dual=False)\n",
    "grid = GridSearchCV(svc, param_grid={\"C\":10**np.arange(-3,7,dtype=float)}, cv=10)\n",
    "grid.fit(X_train, y2_train)\n",
    "print(\"The best parameters are %s with a score of %0.4f\"\n",
    "      % (grid.best_params_, grid.best_score_))"
   ]
  },
  {
   "cell_type": "markdown",
   "metadata": {},
   "source": [
    "#### 3rd label: Species"
   ]
  },
  {
   "cell_type": "code",
   "execution_count": 79,
   "metadata": {},
   "outputs": [
    {
     "name": "stdout",
     "output_type": "stream",
     "text": [
      "The best parameters are {'C': 100.0} with a score of 0.9579\n"
     ]
    }
   ],
   "source": [
    "svc = svm.LinearSVC(penalty='l1', dual=False)\n",
    "grid = GridSearchCV(svc, param_grid={\"C\":10**np.arange(-3,7,dtype=float)}, cv=10)\n",
    "grid.fit(X_train, y3_train)\n",
    "print(\"The best parameters are %s with a score of %0.4f\"\n",
    "      % (grid.best_params_, grid.best_score_))"
   ]
  },
  {
   "cell_type": "markdown",
   "metadata": {},
   "source": [
    "#### Evaluate the classifier using the test set"
   ]
  },
  {
   "cell_type": "code",
   "execution_count": 146,
   "metadata": {},
   "outputs": [],
   "source": [
    "l_svc1 = svm.LinearSVC(penalty='l1', dual=False, C=10)\n",
    "l_svc1.fit(X_train, y1_train)\n",
    "y1_pred_l = l_svc1.predict(X_test)"
   ]
  },
  {
   "cell_type": "code",
   "execution_count": 147,
   "metadata": {},
   "outputs": [],
   "source": [
    "l_svc2 = svm.LinearSVC(penalty='l1', dual=False, C=10)\n",
    "l_svc2.fit(X_train, y2_train)\n",
    "y2_pred_l = l_svc2.predict(X_test)"
   ]
  },
  {
   "cell_type": "code",
   "execution_count": 148,
   "metadata": {},
   "outputs": [],
   "source": [
    "l_svc3 = svm.LinearSVC(penalty='l1', dual=False, C=100)\n",
    "l_svc3.fit(X_train, y3_train)\n",
    "y3_pred_l = l_svc3.predict(X_test)"
   ]
  },
  {
   "cell_type": "code",
   "execution_count": 149,
   "metadata": {},
   "outputs": [],
   "source": [
    "y_pred_l = np.vstack((y1_pred_l,y2_pred_l,y3_pred_l)).T\n",
    "y_test = np.vstack((y1_test,y2_test,y3_test)).T"
   ]
  },
  {
   "cell_type": "markdown",
   "metadata": {},
   "source": [
    "##### Exact match"
   ]
  },
  {
   "cell_type": "code",
   "execution_count": 150,
   "metadata": {},
   "outputs": [
    {
     "data": {
      "text/plain": [
       "0.9226493747105141"
      ]
     },
     "execution_count": 150,
     "metadata": {},
     "output_type": "execute_result"
    }
   ],
   "source": [
    "correct = 0\n",
    "for i in range(2159):\n",
    "    n=0\n",
    "    for j in range(3):\n",
    "        if y_test[i][j] == y_pred_l[i][j]:\n",
    "            n=n+1\n",
    "    if n==3:\n",
    "        correct = correct + 1\n",
    "score = correct/2159\n",
    "score"
   ]
  },
  {
   "cell_type": "markdown",
   "metadata": {},
   "source": [
    "##### Hamming loss"
   ]
  },
  {
   "cell_type": "code",
   "execution_count": 151,
   "metadata": {},
   "outputs": [
    {
     "data": {
      "text/plain": [
       "0.9512119808553342"
      ]
     },
     "execution_count": 151,
     "metadata": {},
     "output_type": "execute_result"
    }
   ],
   "source": [
    "loss_list = []\n",
    "for i in range(2159):\n",
    "    loss_list.append(hamming_loss(y_test[i],y_pred_l[i]))\n",
    "loss = np.mean(loss_list)\n",
    "1-loss"
   ]
  },
  {
   "cell_type": "markdown",
   "metadata": {},
   "source": [
    "### iv. Using SMOTE to remedy class imbalance"
   ]
  },
  {
   "cell_type": "markdown",
   "metadata": {},
   "source": [
    "#### 1st label: Families"
   ]
  },
  {
   "cell_type": "code",
   "execution_count": 158,
   "metadata": {},
   "outputs": [],
   "source": [
    "sm = SMOTE(random_state=42, kind='svm')\n",
    "X1_res, y1_res = sm.fit_sample(X_train, y1_train)"
   ]
  },
  {
   "cell_type": "code",
   "execution_count": 160,
   "metadata": {},
   "outputs": [
    {
     "name": "stdout",
     "output_type": "stream",
     "text": [
      "The best parameters are {'C': 100000.0} with a score of 0.8956\n"
     ]
    }
   ],
   "source": [
    "svc = svm.LinearSVC(penalty='l1', dual=False)\n",
    "grid = GridSearchCV(svc, param_grid={\"C\":10**np.arange(-3,7,dtype=float)}, cv=10)\n",
    "grid.fit(X1_res, y1_res)\n",
    "print(\"The best parameters are %s with a score of %0.4f\"\n",
    "      % (grid.best_params_, grid.best_score_))"
   ]
  },
  {
   "cell_type": "markdown",
   "metadata": {},
   "source": [
    "#### 2nd label: Genus"
   ]
  },
  {
   "cell_type": "code",
   "execution_count": 161,
   "metadata": {},
   "outputs": [],
   "source": [
    "sm = SMOTE(random_state=42, kind='svm')\n",
    "X2_res, y2_res = sm.fit_sample(X_train, y2_train)"
   ]
  },
  {
   "cell_type": "code",
   "execution_count": 162,
   "metadata": {},
   "outputs": [
    {
     "name": "stdout",
     "output_type": "stream",
     "text": [
      "The best parameters are {'C': 10.0} with a score of 0.9042\n"
     ]
    }
   ],
   "source": [
    "svc = svm.LinearSVC(penalty='l1', dual=False)\n",
    "grid = GridSearchCV(svc, param_grid={\"C\":10**np.arange(-3,7,dtype=float)}, cv=10)\n",
    "grid.fit(X2_res, y2_res)\n",
    "print(\"The best parameters are %s with a score of %0.4f\"\n",
    "      % (grid.best_params_, grid.best_score_))"
   ]
  },
  {
   "cell_type": "markdown",
   "metadata": {},
   "source": [
    "#### 3rd label: Species"
   ]
  },
  {
   "cell_type": "code",
   "execution_count": 163,
   "metadata": {},
   "outputs": [],
   "source": [
    "sm = SMOTE(random_state=42, kind='svm')\n",
    "X3_res, y3_res = sm.fit_sample(X_train, y3_train)"
   ]
  },
  {
   "cell_type": "code",
   "execution_count": 164,
   "metadata": {},
   "outputs": [
    {
     "name": "stdout",
     "output_type": "stream",
     "text": [
      "The best parameters are {'C': 10.0} with a score of 0.8854\n"
     ]
    }
   ],
   "source": [
    "svc = svm.LinearSVC(penalty='l1', dual=False)\n",
    "grid = GridSearchCV(svc, param_grid={\"C\":10**np.arange(-3,7,dtype=float)}, cv=10)\n",
    "grid.fit(X3_res, y3_res)\n",
    "print(\"The best parameters are %s with a score of %0.4f\"\n",
    "      % (grid.best_params_, grid.best_score_))"
   ]
  },
  {
   "cell_type": "markdown",
   "metadata": {},
   "source": [
    "#### Evaluate the classifier using the test set"
   ]
  },
  {
   "cell_type": "code",
   "execution_count": 165,
   "metadata": {},
   "outputs": [],
   "source": [
    "smote_svc1 = svm.LinearSVC(penalty='l1', dual=False, C=100000)\n",
    "smote_svc1.fit(X1_res, y1_res)\n",
    "y1_pred_smote = smote_svc1.predict(X_test)"
   ]
  },
  {
   "cell_type": "code",
   "execution_count": 166,
   "metadata": {},
   "outputs": [],
   "source": [
    "smote_svc2 = svm.LinearSVC(penalty='l1', dual=False, C=10)\n",
    "smote_svc2.fit(X2_res, y2_res)\n",
    "y2_pred_smote = smote_svc2.predict(X_test)"
   ]
  },
  {
   "cell_type": "code",
   "execution_count": 167,
   "metadata": {},
   "outputs": [],
   "source": [
    "smote_svc3 = svm.LinearSVC(penalty='l1', dual=False, C=10)\n",
    "smote_svc3.fit(X3_res, y3_res)\n",
    "y3_pred_smote = smote_svc3.predict(X_test)"
   ]
  },
  {
   "cell_type": "code",
   "execution_count": 168,
   "metadata": {},
   "outputs": [],
   "source": [
    "y_pred_smote = np.vstack((y1_pred_smote,y2_pred_smote,y3_pred_smote)).T\n",
    "y_test = np.vstack((y1_test,y2_test,y3_test)).T"
   ]
  },
  {
   "cell_type": "markdown",
   "metadata": {},
   "source": [
    "##### Exact match"
   ]
  },
  {
   "cell_type": "code",
   "execution_count": 169,
   "metadata": {},
   "outputs": [
    {
     "data": {
      "text/plain": [
       "0.8198239925891616"
      ]
     },
     "execution_count": 169,
     "metadata": {},
     "output_type": "execute_result"
    }
   ],
   "source": [
    "correct = 0\n",
    "for i in range(2159):\n",
    "    n=0\n",
    "    for j in range(3):\n",
    "        if y_test[i][j] == y_pred_smote[i][j]:\n",
    "            n=n+1\n",
    "    if n==3:\n",
    "        correct = correct + 1\n",
    "score = correct/2159\n",
    "score"
   ]
  },
  {
   "cell_type": "markdown",
   "metadata": {},
   "source": [
    "##### Hamming loss"
   ]
  },
  {
   "cell_type": "code",
   "execution_count": 170,
   "metadata": {},
   "outputs": [
    {
     "data": {
      "text/plain": [
       "0.9059749884205651"
      ]
     },
     "execution_count": 170,
     "metadata": {},
     "output_type": "execute_result"
    }
   ],
   "source": [
    "loss_list = []\n",
    "for i in range(2159):\n",
    "    loss_list.append(hamming_loss(y_test[i],y_pred_smote[i]))\n",
    "loss = np.mean(loss_list)\n",
    "1-loss"
   ]
  }
 ],
 "metadata": {
  "kernelspec": {
   "display_name": "Python 3",
   "language": "python",
   "name": "python3"
  },
  "language_info": {
   "codemirror_mode": {
    "name": "ipython",
    "version": 3
   },
   "file_extension": ".py",
   "mimetype": "text/x-python",
   "name": "python",
   "nbconvert_exporter": "python",
   "pygments_lexer": "ipython3",
   "version": "3.6.5"
  }
 },
 "nbformat": 4,
 "nbformat_minor": 2
}
